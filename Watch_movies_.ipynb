{
  "nbformat": 4,
  "nbformat_minor": 0,
  "metadata": {
    "colab": {
      "name": "Watch movies .ipynb",
      "version": "0.3.2",
      "provenance": [],
      "collapsed_sections": [],
      "include_colab_link": true
    },
    "kernelspec": {
      "name": "python3",
      "display_name": "Python 3"
    }
  },
  "cells": [
    {
      "cell_type": "markdown",
      "metadata": {
        "id": "view-in-github",
        "colab_type": "text"
      },
      "source": [
        "[View in Colaboratory](https://colab.research.google.com/github/ashwanidv100/Data-Researching/blob/master/Watch_movies_.ipynb)"
      ]
    },
    {
      "metadata": {
        "id": "D1HzfY1Lp6N6",
        "colab_type": "code",
        "colab": {
          "base_uri": "https://localhost:8080/",
          "height": 122
        },
        "outputId": "2822e8d4-bf61-4491-9af4-96fd703f3602"
      },
      "cell_type": "code",
      "source": [
        "!pip install lxml"
      ],
      "execution_count": 2,
      "outputs": [
        {
          "output_type": "stream",
          "text": [
            "Collecting lxml\n",
            "\u001b[?25l  Downloading https://files.pythonhosted.org/packages/03/a4/9eea8035fc7c7670e5eab97f34ff2ef0ddd78a491bf96df5accedb0e63f5/lxml-4.2.5-cp36-cp36m-manylinux1_x86_64.whl (5.8MB)\n",
            "\u001b[K    100% |████████████████████████████████| 5.8MB 4.8MB/s \n",
            "\u001b[?25hInstalling collected packages: lxml\n",
            "Successfully installed lxml-4.2.5\n"
          ],
          "name": "stdout"
        }
      ]
    },
    {
      "metadata": {
        "id": "K5-DhBaDpiiB",
        "colab_type": "code",
        "colab": {}
      },
      "cell_type": "code",
      "source": [
        "import pandas as pd\n",
        "import numpy as np \n",
        "import bs4\n",
        "import lxml\n",
        "import requests"
      ],
      "execution_count": 0,
      "outputs": []
    },
    {
      "metadata": {
        "id": "5fbG-PuXqElD",
        "colab_type": "code",
        "colab": {
          "base_uri": "https://localhost:8080/",
          "height": 54
        },
        "outputId": "a58dacd3-bcea-41d6-bc99-580deb528824"
      },
      "cell_type": "code",
      "source": [
        "url= requests.get('https://www.nowtv.com/watch-movies/sort/order/everything')\n",
        "soup = bs4.BeautifulSoup(url.text,'html.parser')\n",
        "movie_containers = soup.find_all('div', class_= 'ib-card-info-container')\n",
        "#print(movie_containers)\n",
        "a= []\n",
        "for movie_name in movie_containers:\n",
        "  movie_names= movie_name.find_all('div', class_ =\"ib-card-title ib-colour-v1_navy_dark\")\n",
        "  movie_names[0].text\n",
        "  a.append(movie_names[0].text)\n",
        "print(a)\n",
        "\n"
      ],
      "execution_count": 130,
      "outputs": [
        {
          "output_type": "stream",
          "text": [
            "['#Roxy', '10 Things I Hate About You', '12 Days Of Giving', '12 Rounds', '1941', '1984', '2001: A Space Odyssey', '2012', '22 Chaser', '28 Days', '2:22', '30 Minutes Or Less', '300', '48 Hrs.', '6 Below: Miracle On The Mountain', '8 Mile', '9/11', 'A Beautiful Mind', \"A Bug's Life\", 'A Cure for Wellness', 'A Fantastic Woman', 'A Few Good Men', 'A Goofy Movie', 'A Little Something For Your...', 'A Mighty Heart', 'A Nightmare On Elm Street (1984)', 'A Nightmare On Elm Street (2010)', 'A Passage To India', 'A Place In The Sun', 'A Song For Christmas', 'A.I. Artificial Intelligence', 'Ace In The Hole', 'Addams Family Values', 'Aeon Flux', 'Affairs Of State', 'After Earth', 'After The Reality', 'After The Storm', 'Aftermath', 'Airheads', 'Airplane II', 'Airplane!', 'Aladdin', 'Alexander And The Terrible...', 'Alfie (1966)', 'Alfie (2004)', 'Ali & Nino', 'Ali G Indahouse', 'Alien Invasion: S.U.M.1', 'Alien Nation', 'Alien: Covenant', 'Aliens', 'Alive', 'All About Steve', 'All About The Money', 'All I Want For Christmas', 'All The Money In The World', 'All The Right Moves', 'Allied', 'Almost Christmas']\n"
          ],
          "name": "stdout"
        }
      ]
    },
    {
      "metadata": {
        "id": "W8BNlQMwyDgp",
        "colab_type": "code",
        "colab": {
          "base_uri": "https://localhost:8080/",
          "height": 54
        },
        "outputId": "6385ad17-ec38-433f-dfa6-f03ec5a2e72b"
      },
      "cell_type": "code",
      "source": [
        "b=[]\n",
        "for movie_date in movie_containers:\n",
        "  movie_dates= movie_date.find_all('div', class_ =\"ib-card-availability-container ib-colour-v1_navy_dark\")\n",
        "  b.append(movie_dates[0].text)\n",
        "print(b)\n",
        "\n",
        "\n"
      ],
      "execution_count": 128,
      "outputs": [
        {
          "output_type": "stream",
          "text": [
            "['Streaming until 21 Jan 2020', 'Streaming until 15 Aug 2019', 'Streaming until 15 Dec 2018', 'Streaming until 28 Feb 2019', 'Streaming until 30 Jun 2019', 'Streaming until 31 Oct 2019', 'Streaming until 31 Jan 2019', 'Streaming until 25 Aug 2020', 'Streaming until 30 Sep 2019', 'Streaming until 30 Apr 2020', 'Streaming until 03 Nov 2019', 'Streaming until 29 Feb 2020', 'Streaming until 31 Jul 2019', 'Streaming until 31 Dec 2020', 'Streaming until 26 Jun 2019', 'Streaming until 31 Oct 2019', 'Streaming until 28 Feb 2019', 'Streaming until 31 Oct 2018', 'Streaming until 26 Sep 2019', 'Streaming until 18 Dec 2018', 'Streaming until 01 Nov 2019', 'Streaming until 29 Feb 2020', 'Streaming until 26 Sep 2019', 'Streaming until 10 Jan 2020', 'Streaming until 27 Apr 2019', 'Streaming until 31 Mar 2020', 'Streaming until 31 Mar 2020', 'Streaming until 01 Apr 2019', 'Streaming until 30 Sep 2019', 'Streaming until 15 Dec 2018', 'Streaming until 16 Feb 2021', 'Streaming until 30 Jun 2019', 'Streaming until 31 Mar 2020', 'Streaming until 21 Aug 2019', 'Streaming until 14 Dec 2019', 'Streaming until 13 Feb 2021', 'Streaming until 07 May 2019', 'Streaming until 25 Jun 2019', 'Streaming until 11 Jan 2019', 'Streaming until 01 Jul 2019', 'Streaming until 30 Nov 2020', 'Streaming until 30 Nov 2020', 'Streaming until 28 Feb 2019', 'Streaming until 15 Jun 2019', 'Streaming until 28 Feb 2021', 'Streaming until 28 Feb 2021', 'Streaming until 31 Oct 2019', 'Streaming until 30 Jun 2019', 'Streaming until 29 Sep 2019', 'Streaming until 30 Jun 2019', 'Streaming until 03 Mar 2019', 'Streaming until 31 Jan 2021', 'Streaming until 30 Jun 2019', 'Streaming until 01 Oct 2019', 'Streaming until 31 Jul 2019', 'Streaming until 31 Jul 2020', 'Streaming until 29 Nov 2019', 'Streaming until 30 Jun 2020', 'Streaming until 02 Nov 2018', 'Streaming until 09 Nov 2018']\n"
          ],
          "name": "stdout"
        }
      ]
    },
    {
      "metadata": {
        "id": "5slhVknX0TEV",
        "colab_type": "code",
        "colab": {
          "base_uri": "https://localhost:8080/",
          "height": 1054
        },
        "outputId": "78bf0c75-c305-413c-88d3-1ae80b32daab"
      },
      "cell_type": "code",
      "source": [
        "df= pd.DataFrame({'Movie Names': a, 'Streaming Details': b})\n",
        "print(df)"
      ],
      "execution_count": 135,
      "outputs": [
        {
          "output_type": "stream",
          "text": [
            "                         Movie Names            Streaming Details\n",
            "0                              #Roxy  Streaming until 21 Jan 2020\n",
            "1         10 Things I Hate About You  Streaming until 15 Aug 2019\n",
            "2                  12 Days Of Giving  Streaming until 15 Dec 2018\n",
            "3                          12 Rounds  Streaming until 28 Feb 2019\n",
            "4                               1941  Streaming until 30 Jun 2019\n",
            "5                               1984  Streaming until 31 Oct 2019\n",
            "6              2001: A Space Odyssey  Streaming until 31 Jan 2019\n",
            "7                               2012  Streaming until 25 Aug 2020\n",
            "8                          22 Chaser  Streaming until 30 Sep 2019\n",
            "9                            28 Days  Streaming until 30 Apr 2020\n",
            "10                              2:22  Streaming until 03 Nov 2019\n",
            "11                30 Minutes Or Less  Streaming until 29 Feb 2020\n",
            "12                               300  Streaming until 31 Jul 2019\n",
            "13                           48 Hrs.  Streaming until 31 Dec 2020\n",
            "14  6 Below: Miracle On The Mountain  Streaming until 26 Jun 2019\n",
            "15                            8 Mile  Streaming until 31 Oct 2019\n",
            "16                              9/11  Streaming until 28 Feb 2019\n",
            "17                  A Beautiful Mind  Streaming until 31 Oct 2018\n",
            "18                      A Bug's Life  Streaming until 26 Sep 2019\n",
            "19               A Cure for Wellness  Streaming until 18 Dec 2018\n",
            "20                 A Fantastic Woman  Streaming until 01 Nov 2019\n",
            "21                    A Few Good Men  Streaming until 29 Feb 2020\n",
            "22                     A Goofy Movie  Streaming until 26 Sep 2019\n",
            "23    A Little Something For Your...  Streaming until 10 Jan 2020\n",
            "24                    A Mighty Heart  Streaming until 27 Apr 2019\n",
            "25  A Nightmare On Elm Street (1984)  Streaming until 31 Mar 2020\n",
            "26  A Nightmare On Elm Street (2010)  Streaming until 31 Mar 2020\n",
            "27                A Passage To India  Streaming until 01 Apr 2019\n",
            "28                A Place In The Sun  Streaming until 30 Sep 2019\n",
            "29              A Song For Christmas  Streaming until 15 Dec 2018\n",
            "30      A.I. Artificial Intelligence  Streaming until 16 Feb 2021\n",
            "31                   Ace In The Hole  Streaming until 30 Jun 2019\n",
            "32              Addams Family Values  Streaming until 31 Mar 2020\n",
            "33                         Aeon Flux  Streaming until 21 Aug 2019\n",
            "34                  Affairs Of State  Streaming until 14 Dec 2019\n",
            "35                       After Earth  Streaming until 13 Feb 2021\n",
            "36                 After The Reality  Streaming until 07 May 2019\n",
            "37                   After The Storm  Streaming until 25 Jun 2019\n",
            "38                         Aftermath  Streaming until 11 Jan 2019\n",
            "39                          Airheads  Streaming until 01 Jul 2019\n",
            "40                       Airplane II  Streaming until 30 Nov 2020\n",
            "41                         Airplane!  Streaming until 30 Nov 2020\n",
            "42                           Aladdin  Streaming until 28 Feb 2019\n",
            "43     Alexander And The Terrible...  Streaming until 15 Jun 2019\n",
            "44                      Alfie (1966)  Streaming until 28 Feb 2021\n",
            "45                      Alfie (2004)  Streaming until 28 Feb 2021\n",
            "46                        Ali & Nino  Streaming until 31 Oct 2019\n",
            "47                   Ali G Indahouse  Streaming until 30 Jun 2019\n",
            "48           Alien Invasion: S.U.M.1  Streaming until 29 Sep 2019\n",
            "49                      Alien Nation  Streaming until 30 Jun 2019\n",
            "50                   Alien: Covenant  Streaming until 03 Mar 2019\n",
            "51                            Aliens  Streaming until 31 Jan 2021\n",
            "52                             Alive  Streaming until 30 Jun 2019\n",
            "53                   All About Steve  Streaming until 01 Oct 2019\n",
            "54               All About The Money  Streaming until 31 Jul 2019\n",
            "55          All I Want For Christmas  Streaming until 31 Jul 2020\n",
            "56        All The Money In The World  Streaming until 29 Nov 2019\n",
            "57               All The Right Moves  Streaming until 30 Jun 2020\n",
            "58                            Allied  Streaming until 02 Nov 2018\n",
            "59                  Almost Christmas  Streaming until 09 Nov 2018\n"
          ],
          "name": "stdout"
        }
      ]
    }
  ]
}