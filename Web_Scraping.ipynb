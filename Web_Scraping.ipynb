{
  "nbformat": 4,
  "nbformat_minor": 0,
  "metadata": {
    "colab": {
      "name": "Web Scraping.ipynb",
      "version": "0.3.2",
      "provenance": [],
      "collapsed_sections": [],
      "include_colab_link": true
    },
    "kernelspec": {
      "name": "python3",
      "display_name": "Python 3"
    }
  },
  "cells": [
    {
      "cell_type": "markdown",
      "metadata": {
        "id": "view-in-github",
        "colab_type": "text"
      },
      "source": [
        "[View in Colaboratory](https://colab.research.google.com/github/ashwanidv100/Data-Researching/blob/master/Web_Scraping.ipynb)"
      ]
    },
    {
      "metadata": {
        "id": "I2BJ_OFQIqds",
        "colab_type": "text"
      },
      "cell_type": "markdown",
      "source": [
        "# 2017 Intel Great Place to Run 10K \\ Urban Clash Games : Result Analysis for both Male and Female particiapants in this sprint Challenge"
      ]
    },
    {
      "metadata": {
        "id": "wqIzX5gQY8yJ",
        "colab_type": "code",
        "colab": {
          "base_uri": "https://localhost:8080/",
          "height": 102
        },
        "outputId": "370f1a1e-c22f-4a79-ef5e-5d3ee79d740b"
      },
      "cell_type": "code",
      "source": [
        "!pip install requests\n"
      ],
      "execution_count": 9,
      "outputs": [
        {
          "output_type": "stream",
          "text": [
            "Requirement already satisfied: requests in /usr/local/lib/python3.6/dist-packages (2.18.4)\n",
            "Requirement already satisfied: certifi>=2017.4.17 in /usr/local/lib/python3.6/dist-packages (from requests) (2018.10.15)\n",
            "Requirement already satisfied: urllib3<1.23,>=1.21.1 in /usr/local/lib/python3.6/dist-packages (from requests) (1.22)\n",
            "Requirement already satisfied: chardet<3.1.0,>=3.0.2 in /usr/local/lib/python3.6/dist-packages (from requests) (3.0.4)\n",
            "Requirement already satisfied: idna<2.7,>=2.5 in /usr/local/lib/python3.6/dist-packages (from requests) (2.6)\n"
          ],
          "name": "stdout"
        }
      ]
    },
    {
      "metadata": {
        "id": "Z1G-R7u1Rqel",
        "colab_type": "code",
        "colab": {
          "base_uri": "https://localhost:8080/",
          "height": 34
        },
        "outputId": "68d6aa98-a507-4009-e5ac-0b8848c494d6"
      },
      "cell_type": "code",
      "source": [
        "!pip install lxml"
      ],
      "execution_count": 10,
      "outputs": [
        {
          "output_type": "stream",
          "text": [
            "Requirement already satisfied: lxml in /usr/local/lib/python3.6/dist-packages (4.2.5)\n"
          ],
          "name": "stdout"
        }
      ]
    },
    {
      "metadata": {
        "id": "vRJ_asSoR_x-",
        "colab_type": "code",
        "colab": {
          "base_uri": "https://localhost:8080/",
          "height": 34
        },
        "outputId": "74afe807-1560-44be-9361-8e84346539da"
      },
      "cell_type": "code",
      "source": [
        "!pip install BeautifulSoup4"
      ],
      "execution_count": 11,
      "outputs": [
        {
          "output_type": "stream",
          "text": [
            "Requirement already satisfied: BeautifulSoup4 in /usr/local/lib/python3.6/dist-packages (4.6.3)\n"
          ],
          "name": "stdout"
        }
      ]
    },
    {
      "metadata": {
        "id": "Qr5RAV-zuEQr",
        "colab_type": "code",
        "colab": {}
      },
      "cell_type": "code",
      "source": [
        "import requests\n",
        "import pandas as pd\n",
        "import numpy as np\n",
        "import matplotlib.pyplot as plt\n",
        "import lxml\n",
        "import bs4\n",
        "\n",
        "page = requests.get(\"http://www.hubertiming.com/results/2017GPTR10K\")"
      ],
      "execution_count": 0,
      "outputs": []
    },
    {
      "metadata": {
        "id": "iqOCdNmQ2p1H",
        "colab_type": "code",
        "colab": {}
      },
      "cell_type": "code",
      "source": [
        "\n",
        "soup= bs4.BeautifulSoup(page.content, 'lxml')\n",
        "title = soup.title\n",
        "#print(title)\n",
        "text= soup.get_text()\n",
        "all_links = soup.find_all('a')\n",
        "for link in all_links:\n",
        "    link.get('href')\n",
        "\n",
        "rows = soup.find_all('tr')\n",
        "for row in rows:\n",
        "  row_td = row.find_all('td')\n",
        "#print(row_td)\n",
        "#type(row_td)\n",
        "str_cells = str(row_td)\n",
        "cleantext = bs4.BeautifulSoup(str_cells, 'lxml').get_text()\n",
        "#print(cleantext)"
      ],
      "execution_count": 0,
      "outputs": []
    },
    {
      "metadata": {
        "id": "aHUSyaVDR1pd",
        "colab_type": "code",
        "colab": {
          "base_uri": "https://localhost:8080/",
          "height": 71
        },
        "outputId": "8062b108-9f19-476c-abc9-0f14bbc28753"
      },
      "cell_type": "code",
      "source": [
        "import re\n",
        "\n",
        "list_rows = []\n",
        "for row in rows:\n",
        "    cells = row.find_all('td')\n",
        "    str_cells = str(cells)\n",
        "    clean = re.compile('<.*?>')\n",
        "    clean2 = (re.sub(clean, '',str_cells))\n",
        "    list_rows.append(clean2)\n",
        "print(clean2)\n",
        "type(clean2)"
      ],
      "execution_count": 42,
      "outputs": [
        {
          "output_type": "stream",
          "text": [
            "[14TH, INTEL TEAM M, 04:43:23, 00:58:59 - DANIELLE CASILLAS, 01:02:06 - RAMYA MERUVA, 01:17:06 - PALLAVI J SHINDE, 01:25:11 - NALINI MURARI]\n"
          ],
          "name": "stdout"
        },
        {
          "output_type": "execute_result",
          "data": {
            "text/plain": [
              "str"
            ]
          },
          "metadata": {
            "tags": []
          },
          "execution_count": 42
        }
      ]
    },
    {
      "metadata": {
        "id": "O6tsyjbbATBo",
        "colab_type": "code",
        "colab": {
          "base_uri": "https://localhost:8080/",
          "height": 359
        },
        "outputId": "3f907a89-31e4-4496-ca51-2adb887f7e4f"
      },
      "cell_type": "code",
      "source": [
        "df = pd.DataFrame(list_rows)\n",
        "df.head(10)"
      ],
      "execution_count": 43,
      "outputs": [
        {
          "output_type": "execute_result",
          "data": {
            "text/html": [
              "<div>\n",
              "<style scoped>\n",
              "    .dataframe tbody tr th:only-of-type {\n",
              "        vertical-align: middle;\n",
              "    }\n",
              "\n",
              "    .dataframe tbody tr th {\n",
              "        vertical-align: top;\n",
              "    }\n",
              "\n",
              "    .dataframe thead th {\n",
              "        text-align: right;\n",
              "    }\n",
              "</style>\n",
              "<table border=\"1\" class=\"dataframe\">\n",
              "  <thead>\n",
              "    <tr style=\"text-align: right;\">\n",
              "      <th></th>\n",
              "      <th>0</th>\n",
              "    </tr>\n",
              "  </thead>\n",
              "  <tbody>\n",
              "    <tr>\n",
              "      <th>0</th>\n",
              "      <td>[Finishers:, 577]</td>\n",
              "    </tr>\n",
              "    <tr>\n",
              "      <th>1</th>\n",
              "      <td>[Male:, 414]</td>\n",
              "    </tr>\n",
              "    <tr>\n",
              "      <th>2</th>\n",
              "      <td>[Female:, 163]</td>\n",
              "    </tr>\n",
              "    <tr>\n",
              "      <th>3</th>\n",
              "      <td>[]</td>\n",
              "    </tr>\n",
              "    <tr>\n",
              "      <th>4</th>\n",
              "      <td>[1, 814, JARED WILSON, M, TIGARD, OR, 00:36:21...</td>\n",
              "    </tr>\n",
              "    <tr>\n",
              "      <th>5</th>\n",
              "      <td>[2, 573, NATHAN A SUSTERSIC, M, PORTLAND, OR, ...</td>\n",
              "    </tr>\n",
              "    <tr>\n",
              "      <th>6</th>\n",
              "      <td>[3, 687, FRANCISCO MAYA, M, PORTLAND, OR, 00:3...</td>\n",
              "    </tr>\n",
              "    <tr>\n",
              "      <th>7</th>\n",
              "      <td>[4, 623, PAUL MORROW, M, BEAVERTON, OR, 00:38:...</td>\n",
              "    </tr>\n",
              "    <tr>\n",
              "      <th>8</th>\n",
              "      <td>[5, 569, DEREK G OSBORNE, M, HILLSBORO, OR, 00...</td>\n",
              "    </tr>\n",
              "    <tr>\n",
              "      <th>9</th>\n",
              "      <td>[6, 642, JONATHON TRAN, M, PORTLAND, OR, 00:39...</td>\n",
              "    </tr>\n",
              "  </tbody>\n",
              "</table>\n",
              "</div>"
            ],
            "text/plain": [
              "                                                   0\n",
              "0                                  [Finishers:, 577]\n",
              "1                                       [Male:, 414]\n",
              "2                                     [Female:, 163]\n",
              "3                                                 []\n",
              "4  [1, 814, JARED WILSON, M, TIGARD, OR, 00:36:21...\n",
              "5  [2, 573, NATHAN A SUSTERSIC, M, PORTLAND, OR, ...\n",
              "6  [3, 687, FRANCISCO MAYA, M, PORTLAND, OR, 00:3...\n",
              "7  [4, 623, PAUL MORROW, M, BEAVERTON, OR, 00:38:...\n",
              "8  [5, 569, DEREK G OSBORNE, M, HILLSBORO, OR, 00...\n",
              "9  [6, 642, JONATHON TRAN, M, PORTLAND, OR, 00:39..."
            ]
          },
          "metadata": {
            "tags": []
          },
          "execution_count": 43
        }
      ]
    },
    {
      "metadata": {
        "id": "BVgIMbP4AmZE",
        "colab_type": "code",
        "colab": {
          "base_uri": "https://localhost:8080/",
          "height": 583
        },
        "outputId": "7163f701-8fa0-4076-e630-5babcbcb840b"
      },
      "cell_type": "code",
      "source": [
        "df1 = df[0].str.split(',',expand= True)\n",
        "df1.head(10)"
      ],
      "execution_count": 44,
      "outputs": [
        {
          "output_type": "execute_result",
          "data": {
            "text/html": [
              "<div>\n",
              "<style scoped>\n",
              "    .dataframe tbody tr th:only-of-type {\n",
              "        vertical-align: middle;\n",
              "    }\n",
              "\n",
              "    .dataframe tbody tr th {\n",
              "        vertical-align: top;\n",
              "    }\n",
              "\n",
              "    .dataframe thead th {\n",
              "        text-align: right;\n",
              "    }\n",
              "</style>\n",
              "<table border=\"1\" class=\"dataframe\">\n",
              "  <thead>\n",
              "    <tr style=\"text-align: right;\">\n",
              "      <th></th>\n",
              "      <th>0</th>\n",
              "      <th>1</th>\n",
              "      <th>2</th>\n",
              "      <th>3</th>\n",
              "      <th>4</th>\n",
              "      <th>5</th>\n",
              "      <th>6</th>\n",
              "      <th>7</th>\n",
              "      <th>8</th>\n",
              "      <th>9</th>\n",
              "      <th>10</th>\n",
              "      <th>11</th>\n",
              "      <th>12</th>\n",
              "      <th>13</th>\n",
              "    </tr>\n",
              "  </thead>\n",
              "  <tbody>\n",
              "    <tr>\n",
              "      <th>0</th>\n",
              "      <td>[Finishers:</td>\n",
              "      <td>577]</td>\n",
              "      <td>None</td>\n",
              "      <td>None</td>\n",
              "      <td>None</td>\n",
              "      <td>None</td>\n",
              "      <td>None</td>\n",
              "      <td>None</td>\n",
              "      <td>None</td>\n",
              "      <td>None</td>\n",
              "      <td>None</td>\n",
              "      <td>None</td>\n",
              "      <td>None</td>\n",
              "      <td>None</td>\n",
              "    </tr>\n",
              "    <tr>\n",
              "      <th>1</th>\n",
              "      <td>[Male:</td>\n",
              "      <td>414]</td>\n",
              "      <td>None</td>\n",
              "      <td>None</td>\n",
              "      <td>None</td>\n",
              "      <td>None</td>\n",
              "      <td>None</td>\n",
              "      <td>None</td>\n",
              "      <td>None</td>\n",
              "      <td>None</td>\n",
              "      <td>None</td>\n",
              "      <td>None</td>\n",
              "      <td>None</td>\n",
              "      <td>None</td>\n",
              "    </tr>\n",
              "    <tr>\n",
              "      <th>2</th>\n",
              "      <td>[Female:</td>\n",
              "      <td>163]</td>\n",
              "      <td>None</td>\n",
              "      <td>None</td>\n",
              "      <td>None</td>\n",
              "      <td>None</td>\n",
              "      <td>None</td>\n",
              "      <td>None</td>\n",
              "      <td>None</td>\n",
              "      <td>None</td>\n",
              "      <td>None</td>\n",
              "      <td>None</td>\n",
              "      <td>None</td>\n",
              "      <td>None</td>\n",
              "    </tr>\n",
              "    <tr>\n",
              "      <th>3</th>\n",
              "      <td>[]</td>\n",
              "      <td>None</td>\n",
              "      <td>None</td>\n",
              "      <td>None</td>\n",
              "      <td>None</td>\n",
              "      <td>None</td>\n",
              "      <td>None</td>\n",
              "      <td>None</td>\n",
              "      <td>None</td>\n",
              "      <td>None</td>\n",
              "      <td>None</td>\n",
              "      <td>None</td>\n",
              "      <td>None</td>\n",
              "      <td>None</td>\n",
              "    </tr>\n",
              "    <tr>\n",
              "      <th>4</th>\n",
              "      <td>[1</td>\n",
              "      <td>814</td>\n",
              "      <td>JARED WILSON</td>\n",
              "      <td>M</td>\n",
              "      <td>TIGARD</td>\n",
              "      <td>OR</td>\n",
              "      <td>00:36:21</td>\n",
              "      <td>05:51</td>\n",
              "      <td>1 of 414</td>\n",
              "      <td>M 36-45</td>\n",
              "      <td>1 of 152</td>\n",
              "      <td>00:00:03</td>\n",
              "      <td>00:36:24</td>\n",
              "      <td>]</td>\n",
              "    </tr>\n",
              "    <tr>\n",
              "      <th>5</th>\n",
              "      <td>[2</td>\n",
              "      <td>573</td>\n",
              "      <td>NATHAN A SUSTERSIC</td>\n",
              "      <td>M</td>\n",
              "      <td>PORTLAND</td>\n",
              "      <td>OR</td>\n",
              "      <td>00:36:42</td>\n",
              "      <td>05:55</td>\n",
              "      <td>2 of 414</td>\n",
              "      <td>M 26-35</td>\n",
              "      <td>1 of 154</td>\n",
              "      <td>00:00:03</td>\n",
              "      <td>00:36:45</td>\n",
              "      <td>INTEL TEAM F]</td>\n",
              "    </tr>\n",
              "    <tr>\n",
              "      <th>6</th>\n",
              "      <td>[3</td>\n",
              "      <td>687</td>\n",
              "      <td>FRANCISCO MAYA</td>\n",
              "      <td>M</td>\n",
              "      <td>PORTLAND</td>\n",
              "      <td>OR</td>\n",
              "      <td>00:37:44</td>\n",
              "      <td>06:05</td>\n",
              "      <td>3 of 414</td>\n",
              "      <td>M 46-55</td>\n",
              "      <td>1 of 64</td>\n",
              "      <td>00:00:04</td>\n",
              "      <td>00:37:48</td>\n",
              "      <td>]</td>\n",
              "    </tr>\n",
              "    <tr>\n",
              "      <th>7</th>\n",
              "      <td>[4</td>\n",
              "      <td>623</td>\n",
              "      <td>PAUL MORROW</td>\n",
              "      <td>M</td>\n",
              "      <td>BEAVERTON</td>\n",
              "      <td>OR</td>\n",
              "      <td>00:38:34</td>\n",
              "      <td>06:13</td>\n",
              "      <td>4 of 414</td>\n",
              "      <td>M 36-45</td>\n",
              "      <td>2 of 152</td>\n",
              "      <td>00:00:03</td>\n",
              "      <td>00:38:37</td>\n",
              "      <td>]</td>\n",
              "    </tr>\n",
              "    <tr>\n",
              "      <th>8</th>\n",
              "      <td>[5</td>\n",
              "      <td>569</td>\n",
              "      <td>DEREK G OSBORNE</td>\n",
              "      <td>M</td>\n",
              "      <td>HILLSBORO</td>\n",
              "      <td>OR</td>\n",
              "      <td>00:39:21</td>\n",
              "      <td>06:20</td>\n",
              "      <td>5 of 414</td>\n",
              "      <td>M 26-35</td>\n",
              "      <td>2 of 154</td>\n",
              "      <td>00:00:03</td>\n",
              "      <td>00:39:24</td>\n",
              "      <td>INTEL TEAM F]</td>\n",
              "    </tr>\n",
              "    <tr>\n",
              "      <th>9</th>\n",
              "      <td>[6</td>\n",
              "      <td>642</td>\n",
              "      <td>JONATHON TRAN</td>\n",
              "      <td>M</td>\n",
              "      <td>PORTLAND</td>\n",
              "      <td>OR</td>\n",
              "      <td>00:39:49</td>\n",
              "      <td>06:25</td>\n",
              "      <td>6 of 414</td>\n",
              "      <td>M 18-25</td>\n",
              "      <td>1 of 34</td>\n",
              "      <td>00:00:06</td>\n",
              "      <td>00:39:55</td>\n",
              "      <td>]</td>\n",
              "    </tr>\n",
              "  </tbody>\n",
              "</table>\n",
              "</div>"
            ],
            "text/plain": [
              "            0      1                    2     3           4     5          6   \\\n",
              "0  [Finishers:   577]                 None  None        None  None       None   \n",
              "1       [Male:   414]                 None  None        None  None       None   \n",
              "2     [Female:   163]                 None  None        None  None       None   \n",
              "3           []   None                 None  None        None  None       None   \n",
              "4           [1    814         JARED WILSON     M      TIGARD    OR   00:36:21   \n",
              "5           [2    573   NATHAN A SUSTERSIC     M    PORTLAND    OR   00:36:42   \n",
              "6           [3    687       FRANCISCO MAYA     M    PORTLAND    OR   00:37:44   \n",
              "7           [4    623          PAUL MORROW     M   BEAVERTON    OR   00:38:34   \n",
              "8           [5    569      DEREK G OSBORNE     M   HILLSBORO    OR   00:39:21   \n",
              "9           [6    642        JONATHON TRAN     M    PORTLAND    OR   00:39:49   \n",
              "\n",
              "       7          8         9          10         11         12  \\\n",
              "0    None       None      None       None       None       None   \n",
              "1    None       None      None       None       None       None   \n",
              "2    None       None      None       None       None       None   \n",
              "3    None       None      None       None       None       None   \n",
              "4   05:51   1 of 414   M 36-45   1 of 152   00:00:03   00:36:24   \n",
              "5   05:55   2 of 414   M 26-35   1 of 154   00:00:03   00:36:45   \n",
              "6   06:05   3 of 414   M 46-55    1 of 64   00:00:04   00:37:48   \n",
              "7   06:13   4 of 414   M 36-45   2 of 152   00:00:03   00:38:37   \n",
              "8   06:20   5 of 414   M 26-35   2 of 154   00:00:03   00:39:24   \n",
              "9   06:25   6 of 414   M 18-25    1 of 34   00:00:06   00:39:55   \n",
              "\n",
              "               13  \n",
              "0            None  \n",
              "1            None  \n",
              "2            None  \n",
              "3            None  \n",
              "4               ]  \n",
              "5   INTEL TEAM F]  \n",
              "6               ]  \n",
              "7               ]  \n",
              "8   INTEL TEAM F]  \n",
              "9               ]  "
            ]
          },
          "metadata": {
            "tags": []
          },
          "execution_count": 44
        }
      ]
    },
    {
      "metadata": {
        "id": "NkP6qpvEA_is",
        "colab_type": "code",
        "colab": {}
      },
      "cell_type": "code",
      "source": [
        "col_labels = soup.find_all('th')"
      ],
      "execution_count": 0,
      "outputs": []
    },
    {
      "metadata": {
        "id": "RJILQ8hFBRxj",
        "colab_type": "code",
        "colab": {
          "base_uri": "https://localhost:8080/",
          "height": 54
        },
        "outputId": "34a881d0-e205-4d2b-ceed-bdfad36f9b28"
      },
      "cell_type": "code",
      "source": [
        "all_header =[]\n",
        "col_str = str(col_labels)\n",
        "cleantext2 = bs4.BeautifulSoup(col_str, 'lxml').get_text()\n",
        "all_header.append(cleantext2)\n",
        "print(all_header)\n"
      ],
      "execution_count": 48,
      "outputs": [
        {
          "output_type": "stream",
          "text": [
            "['[Place, Bib, Name, Gender, City, State, Chip Time, Chip Pace, Gender Place, Age Group, Age Group Place, Time to Start, Gun Time, Team]']\n"
          ],
          "name": "stdout"
        }
      ]
    },
    {
      "metadata": {
        "id": "lD7-EhRMCHG_",
        "colab_type": "code",
        "colab": {
          "base_uri": "https://localhost:8080/",
          "height": 80
        },
        "outputId": "65d35c5b-1977-40b0-aa02-22a88f916e81"
      },
      "cell_type": "code",
      "source": [
        "df2= pd.DataFrame(all_header)\n",
        "df2.head()"
      ],
      "execution_count": 51,
      "outputs": [
        {
          "output_type": "execute_result",
          "data": {
            "text/html": [
              "<div>\n",
              "<style scoped>\n",
              "    .dataframe tbody tr th:only-of-type {\n",
              "        vertical-align: middle;\n",
              "    }\n",
              "\n",
              "    .dataframe tbody tr th {\n",
              "        vertical-align: top;\n",
              "    }\n",
              "\n",
              "    .dataframe thead th {\n",
              "        text-align: right;\n",
              "    }\n",
              "</style>\n",
              "<table border=\"1\" class=\"dataframe\">\n",
              "  <thead>\n",
              "    <tr style=\"text-align: right;\">\n",
              "      <th></th>\n",
              "      <th>0</th>\n",
              "    </tr>\n",
              "  </thead>\n",
              "  <tbody>\n",
              "    <tr>\n",
              "      <th>0</th>\n",
              "      <td>[Place, Bib, Name, Gender, City, State, Chip T...</td>\n",
              "    </tr>\n",
              "  </tbody>\n",
              "</table>\n",
              "</div>"
            ],
            "text/plain": [
              "                                                   0\n",
              "0  [Place, Bib, Name, Gender, City, State, Chip T..."
            ]
          },
          "metadata": {
            "tags": []
          },
          "execution_count": 51
        }
      ]
    },
    {
      "metadata": {
        "id": "BC9z6kZnCG9w",
        "colab_type": "code",
        "colab": {
          "base_uri": "https://localhost:8080/",
          "height": 134
        },
        "outputId": "f2ee36fa-1eb3-4d20-dee2-539cf514f4e1"
      },
      "cell_type": "code",
      "source": [
        "df3 = df2[0].str.split(',',expand=True)\n",
        "df3.head()"
      ],
      "execution_count": 52,
      "outputs": [
        {
          "output_type": "execute_result",
          "data": {
            "text/html": [
              "<div>\n",
              "<style scoped>\n",
              "    .dataframe tbody tr th:only-of-type {\n",
              "        vertical-align: middle;\n",
              "    }\n",
              "\n",
              "    .dataframe tbody tr th {\n",
              "        vertical-align: top;\n",
              "    }\n",
              "\n",
              "    .dataframe thead th {\n",
              "        text-align: right;\n",
              "    }\n",
              "</style>\n",
              "<table border=\"1\" class=\"dataframe\">\n",
              "  <thead>\n",
              "    <tr style=\"text-align: right;\">\n",
              "      <th></th>\n",
              "      <th>0</th>\n",
              "      <th>1</th>\n",
              "      <th>2</th>\n",
              "      <th>3</th>\n",
              "      <th>4</th>\n",
              "      <th>5</th>\n",
              "      <th>6</th>\n",
              "      <th>7</th>\n",
              "      <th>8</th>\n",
              "      <th>9</th>\n",
              "      <th>10</th>\n",
              "      <th>11</th>\n",
              "      <th>12</th>\n",
              "      <th>13</th>\n",
              "    </tr>\n",
              "  </thead>\n",
              "  <tbody>\n",
              "    <tr>\n",
              "      <th>0</th>\n",
              "      <td>[Place</td>\n",
              "      <td>Bib</td>\n",
              "      <td>Name</td>\n",
              "      <td>Gender</td>\n",
              "      <td>City</td>\n",
              "      <td>State</td>\n",
              "      <td>Chip Time</td>\n",
              "      <td>Chip Pace</td>\n",
              "      <td>Gender Place</td>\n",
              "      <td>Age Group</td>\n",
              "      <td>Age Group Place</td>\n",
              "      <td>Time to Start</td>\n",
              "      <td>Gun Time</td>\n",
              "      <td>Team]</td>\n",
              "    </tr>\n",
              "  </tbody>\n",
              "</table>\n",
              "</div>"
            ],
            "text/plain": [
              "       0     1      2        3      4       5           6           7   \\\n",
              "0  [Place   Bib   Name   Gender   City   State   Chip Time   Chip Pace   \n",
              "\n",
              "              8           9                 10              11         12  \\\n",
              "0   Gender Place   Age Group   Age Group Place   Time to Start   Gun Time   \n",
              "\n",
              "       13  \n",
              "0   Team]  "
            ]
          },
          "metadata": {
            "tags": []
          },
          "execution_count": 52
        }
      ]
    },
    {
      "metadata": {
        "id": "3yPRbKkcCmg3",
        "colab_type": "code",
        "colab": {
          "base_uri": "https://localhost:8080/",
          "height": 532
        },
        "outputId": "576e7142-e38b-442b-e0e6-461645f065d1"
      },
      "cell_type": "code",
      "source": [
        "frames = [df3,df1]\n",
        "df4 = pd.concat(frames)\n",
        "df4.head(10)"
      ],
      "execution_count": 53,
      "outputs": [
        {
          "output_type": "execute_result",
          "data": {
            "text/html": [
              "<div>\n",
              "<style scoped>\n",
              "    .dataframe tbody tr th:only-of-type {\n",
              "        vertical-align: middle;\n",
              "    }\n",
              "\n",
              "    .dataframe tbody tr th {\n",
              "        vertical-align: top;\n",
              "    }\n",
              "\n",
              "    .dataframe thead th {\n",
              "        text-align: right;\n",
              "    }\n",
              "</style>\n",
              "<table border=\"1\" class=\"dataframe\">\n",
              "  <thead>\n",
              "    <tr style=\"text-align: right;\">\n",
              "      <th></th>\n",
              "      <th>0</th>\n",
              "      <th>1</th>\n",
              "      <th>2</th>\n",
              "      <th>3</th>\n",
              "      <th>4</th>\n",
              "      <th>5</th>\n",
              "      <th>6</th>\n",
              "      <th>7</th>\n",
              "      <th>8</th>\n",
              "      <th>9</th>\n",
              "      <th>10</th>\n",
              "      <th>11</th>\n",
              "      <th>12</th>\n",
              "      <th>13</th>\n",
              "    </tr>\n",
              "  </thead>\n",
              "  <tbody>\n",
              "    <tr>\n",
              "      <th>0</th>\n",
              "      <td>[Place</td>\n",
              "      <td>Bib</td>\n",
              "      <td>Name</td>\n",
              "      <td>Gender</td>\n",
              "      <td>City</td>\n",
              "      <td>State</td>\n",
              "      <td>Chip Time</td>\n",
              "      <td>Chip Pace</td>\n",
              "      <td>Gender Place</td>\n",
              "      <td>Age Group</td>\n",
              "      <td>Age Group Place</td>\n",
              "      <td>Time to Start</td>\n",
              "      <td>Gun Time</td>\n",
              "      <td>Team]</td>\n",
              "    </tr>\n",
              "    <tr>\n",
              "      <th>0</th>\n",
              "      <td>[Finishers:</td>\n",
              "      <td>577]</td>\n",
              "      <td>None</td>\n",
              "      <td>None</td>\n",
              "      <td>None</td>\n",
              "      <td>None</td>\n",
              "      <td>None</td>\n",
              "      <td>None</td>\n",
              "      <td>None</td>\n",
              "      <td>None</td>\n",
              "      <td>None</td>\n",
              "      <td>None</td>\n",
              "      <td>None</td>\n",
              "      <td>None</td>\n",
              "    </tr>\n",
              "    <tr>\n",
              "      <th>1</th>\n",
              "      <td>[Male:</td>\n",
              "      <td>414]</td>\n",
              "      <td>None</td>\n",
              "      <td>None</td>\n",
              "      <td>None</td>\n",
              "      <td>None</td>\n",
              "      <td>None</td>\n",
              "      <td>None</td>\n",
              "      <td>None</td>\n",
              "      <td>None</td>\n",
              "      <td>None</td>\n",
              "      <td>None</td>\n",
              "      <td>None</td>\n",
              "      <td>None</td>\n",
              "    </tr>\n",
              "    <tr>\n",
              "      <th>2</th>\n",
              "      <td>[Female:</td>\n",
              "      <td>163]</td>\n",
              "      <td>None</td>\n",
              "      <td>None</td>\n",
              "      <td>None</td>\n",
              "      <td>None</td>\n",
              "      <td>None</td>\n",
              "      <td>None</td>\n",
              "      <td>None</td>\n",
              "      <td>None</td>\n",
              "      <td>None</td>\n",
              "      <td>None</td>\n",
              "      <td>None</td>\n",
              "      <td>None</td>\n",
              "    </tr>\n",
              "    <tr>\n",
              "      <th>3</th>\n",
              "      <td>[]</td>\n",
              "      <td>None</td>\n",
              "      <td>None</td>\n",
              "      <td>None</td>\n",
              "      <td>None</td>\n",
              "      <td>None</td>\n",
              "      <td>None</td>\n",
              "      <td>None</td>\n",
              "      <td>None</td>\n",
              "      <td>None</td>\n",
              "      <td>None</td>\n",
              "      <td>None</td>\n",
              "      <td>None</td>\n",
              "      <td>None</td>\n",
              "    </tr>\n",
              "    <tr>\n",
              "      <th>4</th>\n",
              "      <td>[1</td>\n",
              "      <td>814</td>\n",
              "      <td>JARED WILSON</td>\n",
              "      <td>M</td>\n",
              "      <td>TIGARD</td>\n",
              "      <td>OR</td>\n",
              "      <td>00:36:21</td>\n",
              "      <td>05:51</td>\n",
              "      <td>1 of 414</td>\n",
              "      <td>M 36-45</td>\n",
              "      <td>1 of 152</td>\n",
              "      <td>00:00:03</td>\n",
              "      <td>00:36:24</td>\n",
              "      <td>]</td>\n",
              "    </tr>\n",
              "    <tr>\n",
              "      <th>5</th>\n",
              "      <td>[2</td>\n",
              "      <td>573</td>\n",
              "      <td>NATHAN A SUSTERSIC</td>\n",
              "      <td>M</td>\n",
              "      <td>PORTLAND</td>\n",
              "      <td>OR</td>\n",
              "      <td>00:36:42</td>\n",
              "      <td>05:55</td>\n",
              "      <td>2 of 414</td>\n",
              "      <td>M 26-35</td>\n",
              "      <td>1 of 154</td>\n",
              "      <td>00:00:03</td>\n",
              "      <td>00:36:45</td>\n",
              "      <td>INTEL TEAM F]</td>\n",
              "    </tr>\n",
              "    <tr>\n",
              "      <th>6</th>\n",
              "      <td>[3</td>\n",
              "      <td>687</td>\n",
              "      <td>FRANCISCO MAYA</td>\n",
              "      <td>M</td>\n",
              "      <td>PORTLAND</td>\n",
              "      <td>OR</td>\n",
              "      <td>00:37:44</td>\n",
              "      <td>06:05</td>\n",
              "      <td>3 of 414</td>\n",
              "      <td>M 46-55</td>\n",
              "      <td>1 of 64</td>\n",
              "      <td>00:00:04</td>\n",
              "      <td>00:37:48</td>\n",
              "      <td>]</td>\n",
              "    </tr>\n",
              "    <tr>\n",
              "      <th>7</th>\n",
              "      <td>[4</td>\n",
              "      <td>623</td>\n",
              "      <td>PAUL MORROW</td>\n",
              "      <td>M</td>\n",
              "      <td>BEAVERTON</td>\n",
              "      <td>OR</td>\n",
              "      <td>00:38:34</td>\n",
              "      <td>06:13</td>\n",
              "      <td>4 of 414</td>\n",
              "      <td>M 36-45</td>\n",
              "      <td>2 of 152</td>\n",
              "      <td>00:00:03</td>\n",
              "      <td>00:38:37</td>\n",
              "      <td>]</td>\n",
              "    </tr>\n",
              "    <tr>\n",
              "      <th>8</th>\n",
              "      <td>[5</td>\n",
              "      <td>569</td>\n",
              "      <td>DEREK G OSBORNE</td>\n",
              "      <td>M</td>\n",
              "      <td>HILLSBORO</td>\n",
              "      <td>OR</td>\n",
              "      <td>00:39:21</td>\n",
              "      <td>06:20</td>\n",
              "      <td>5 of 414</td>\n",
              "      <td>M 26-35</td>\n",
              "      <td>2 of 154</td>\n",
              "      <td>00:00:03</td>\n",
              "      <td>00:39:24</td>\n",
              "      <td>INTEL TEAM F]</td>\n",
              "    </tr>\n",
              "  </tbody>\n",
              "</table>\n",
              "</div>"
            ],
            "text/plain": [
              "            0      1                    2        3           4       5   \\\n",
              "0       [Place    Bib                 Name   Gender        City   State   \n",
              "0  [Finishers:   577]                 None     None        None    None   \n",
              "1       [Male:   414]                 None     None        None    None   \n",
              "2     [Female:   163]                 None     None        None    None   \n",
              "3           []   None                 None     None        None    None   \n",
              "4           [1    814         JARED WILSON        M      TIGARD      OR   \n",
              "5           [2    573   NATHAN A SUSTERSIC        M    PORTLAND      OR   \n",
              "6           [3    687       FRANCISCO MAYA        M    PORTLAND      OR   \n",
              "7           [4    623          PAUL MORROW        M   BEAVERTON      OR   \n",
              "8           [5    569      DEREK G OSBORNE        M   HILLSBORO      OR   \n",
              "\n",
              "           6           7              8           9                 10  \\\n",
              "0   Chip Time   Chip Pace   Gender Place   Age Group   Age Group Place   \n",
              "0        None        None           None        None              None   \n",
              "1        None        None           None        None              None   \n",
              "2        None        None           None        None              None   \n",
              "3        None        None           None        None              None   \n",
              "4    00:36:21       05:51       1 of 414     M 36-45          1 of 152   \n",
              "5    00:36:42       05:55       2 of 414     M 26-35          1 of 154   \n",
              "6    00:37:44       06:05       3 of 414     M 46-55           1 of 64   \n",
              "7    00:38:34       06:13       4 of 414     M 36-45          2 of 152   \n",
              "8    00:39:21       06:20       5 of 414     M 26-35          2 of 154   \n",
              "\n",
              "               11         12              13  \n",
              "0   Time to Start   Gun Time           Team]  \n",
              "0            None       None            None  \n",
              "1            None       None            None  \n",
              "2            None       None            None  \n",
              "3            None       None            None  \n",
              "4        00:00:03   00:36:24               ]  \n",
              "5        00:00:03   00:36:45   INTEL TEAM F]  \n",
              "6        00:00:04   00:37:48               ]  \n",
              "7        00:00:03   00:38:37               ]  \n",
              "8        00:00:03   00:39:24   INTEL TEAM F]  "
            ]
          },
          "metadata": {
            "tags": []
          },
          "execution_count": 53
        }
      ]
    },
    {
      "metadata": {
        "id": "8EkydBsYDEek",
        "colab_type": "code",
        "colab": {
          "base_uri": "https://localhost:8080/",
          "height": 292
        },
        "outputId": "d89f3143-baaf-42d3-9e40-47d09502deca"
      },
      "cell_type": "code",
      "source": [
        "df5 = df4.rename(columns= df4.iloc[0])\n",
        "df5.head()"
      ],
      "execution_count": 55,
      "outputs": [
        {
          "output_type": "execute_result",
          "data": {
            "text/html": [
              "<div>\n",
              "<style scoped>\n",
              "    .dataframe tbody tr th:only-of-type {\n",
              "        vertical-align: middle;\n",
              "    }\n",
              "\n",
              "    .dataframe tbody tr th {\n",
              "        vertical-align: top;\n",
              "    }\n",
              "\n",
              "    .dataframe thead th {\n",
              "        text-align: right;\n",
              "    }\n",
              "</style>\n",
              "<table border=\"1\" class=\"dataframe\">\n",
              "  <thead>\n",
              "    <tr style=\"text-align: right;\">\n",
              "      <th></th>\n",
              "      <th>[Place</th>\n",
              "      <th>Bib</th>\n",
              "      <th>Name</th>\n",
              "      <th>Gender</th>\n",
              "      <th>City</th>\n",
              "      <th>State</th>\n",
              "      <th>Chip Time</th>\n",
              "      <th>Chip Pace</th>\n",
              "      <th>Gender Place</th>\n",
              "      <th>Age Group</th>\n",
              "      <th>Age Group Place</th>\n",
              "      <th>Time to Start</th>\n",
              "      <th>Gun Time</th>\n",
              "      <th>Team]</th>\n",
              "    </tr>\n",
              "  </thead>\n",
              "  <tbody>\n",
              "    <tr>\n",
              "      <th>0</th>\n",
              "      <td>[Place</td>\n",
              "      <td>Bib</td>\n",
              "      <td>Name</td>\n",
              "      <td>Gender</td>\n",
              "      <td>City</td>\n",
              "      <td>State</td>\n",
              "      <td>Chip Time</td>\n",
              "      <td>Chip Pace</td>\n",
              "      <td>Gender Place</td>\n",
              "      <td>Age Group</td>\n",
              "      <td>Age Group Place</td>\n",
              "      <td>Time to Start</td>\n",
              "      <td>Gun Time</td>\n",
              "      <td>Team]</td>\n",
              "    </tr>\n",
              "    <tr>\n",
              "      <th>0</th>\n",
              "      <td>[Finishers:</td>\n",
              "      <td>577]</td>\n",
              "      <td>None</td>\n",
              "      <td>None</td>\n",
              "      <td>None</td>\n",
              "      <td>None</td>\n",
              "      <td>None</td>\n",
              "      <td>None</td>\n",
              "      <td>None</td>\n",
              "      <td>None</td>\n",
              "      <td>None</td>\n",
              "      <td>None</td>\n",
              "      <td>None</td>\n",
              "      <td>None</td>\n",
              "    </tr>\n",
              "    <tr>\n",
              "      <th>1</th>\n",
              "      <td>[Male:</td>\n",
              "      <td>414]</td>\n",
              "      <td>None</td>\n",
              "      <td>None</td>\n",
              "      <td>None</td>\n",
              "      <td>None</td>\n",
              "      <td>None</td>\n",
              "      <td>None</td>\n",
              "      <td>None</td>\n",
              "      <td>None</td>\n",
              "      <td>None</td>\n",
              "      <td>None</td>\n",
              "      <td>None</td>\n",
              "      <td>None</td>\n",
              "    </tr>\n",
              "    <tr>\n",
              "      <th>2</th>\n",
              "      <td>[Female:</td>\n",
              "      <td>163]</td>\n",
              "      <td>None</td>\n",
              "      <td>None</td>\n",
              "      <td>None</td>\n",
              "      <td>None</td>\n",
              "      <td>None</td>\n",
              "      <td>None</td>\n",
              "      <td>None</td>\n",
              "      <td>None</td>\n",
              "      <td>None</td>\n",
              "      <td>None</td>\n",
              "      <td>None</td>\n",
              "      <td>None</td>\n",
              "    </tr>\n",
              "    <tr>\n",
              "      <th>3</th>\n",
              "      <td>[]</td>\n",
              "      <td>None</td>\n",
              "      <td>None</td>\n",
              "      <td>None</td>\n",
              "      <td>None</td>\n",
              "      <td>None</td>\n",
              "      <td>None</td>\n",
              "      <td>None</td>\n",
              "      <td>None</td>\n",
              "      <td>None</td>\n",
              "      <td>None</td>\n",
              "      <td>None</td>\n",
              "      <td>None</td>\n",
              "      <td>None</td>\n",
              "    </tr>\n",
              "  </tbody>\n",
              "</table>\n",
              "</div>"
            ],
            "text/plain": [
              "        [Place    Bib   Name   Gender   City   State   Chip Time   Chip Pace  \\\n",
              "0       [Place    Bib   Name   Gender   City   State   Chip Time   Chip Pace   \n",
              "0  [Finishers:   577]   None     None   None    None        None        None   \n",
              "1       [Male:   414]   None     None   None    None        None        None   \n",
              "2     [Female:   163]   None     None   None    None        None        None   \n",
              "3           []   None   None     None   None    None        None        None   \n",
              "\n",
              "    Gender Place   Age Group   Age Group Place   Time to Start   Gun Time  \\\n",
              "0   Gender Place   Age Group   Age Group Place   Time to Start   Gun Time   \n",
              "0           None        None              None            None       None   \n",
              "1           None        None              None            None       None   \n",
              "2           None        None              None            None       None   \n",
              "3           None        None              None            None       None   \n",
              "\n",
              "    Team]  \n",
              "0   Team]  \n",
              "0    None  \n",
              "1    None  \n",
              "2    None  \n",
              "3    None  "
            ]
          },
          "metadata": {
            "tags": []
          },
          "execution_count": 55
        }
      ]
    },
    {
      "metadata": {
        "id": "aGXTEI7-DeRU",
        "colab_type": "code",
        "colab": {
          "base_uri": "https://localhost:8080/",
          "height": 34
        },
        "outputId": "d5b159c3-4f7d-4b63-a1ea-1b8fd2fa9eae"
      },
      "cell_type": "code",
      "source": [
        "#df5.info()\n",
        "df5.shape"
      ],
      "execution_count": 60,
      "outputs": [
        {
          "output_type": "execute_result",
          "data": {
            "text/plain": [
              "(597, 14)"
            ]
          },
          "metadata": {
            "tags": []
          },
          "execution_count": 60
        }
      ]
    },
    {
      "metadata": {
        "id": "liOILpmZD9A-",
        "colab_type": "code",
        "colab": {}
      },
      "cell_type": "code",
      "source": [
        "df6 = df5.dropna(axis= 0, how = 'any')"
      ],
      "execution_count": 0,
      "outputs": []
    },
    {
      "metadata": {
        "id": "BdIOmy9bEKa3",
        "colab_type": "code",
        "colab": {
          "base_uri": "https://localhost:8080/",
          "height": 377
        },
        "outputId": "3657dceb-bec0-48cb-c41d-4d41af41d289"
      },
      "cell_type": "code",
      "source": [
        "df7= df6.drop(df6.index[0])\n",
        "df7.head()"
      ],
      "execution_count": 63,
      "outputs": [
        {
          "output_type": "execute_result",
          "data": {
            "text/html": [
              "<div>\n",
              "<style scoped>\n",
              "    .dataframe tbody tr th:only-of-type {\n",
              "        vertical-align: middle;\n",
              "    }\n",
              "\n",
              "    .dataframe tbody tr th {\n",
              "        vertical-align: top;\n",
              "    }\n",
              "\n",
              "    .dataframe thead th {\n",
              "        text-align: right;\n",
              "    }\n",
              "</style>\n",
              "<table border=\"1\" class=\"dataframe\">\n",
              "  <thead>\n",
              "    <tr style=\"text-align: right;\">\n",
              "      <th></th>\n",
              "      <th>[Place</th>\n",
              "      <th>Bib</th>\n",
              "      <th>Name</th>\n",
              "      <th>Gender</th>\n",
              "      <th>City</th>\n",
              "      <th>State</th>\n",
              "      <th>Chip Time</th>\n",
              "      <th>Chip Pace</th>\n",
              "      <th>Gender Place</th>\n",
              "      <th>Age Group</th>\n",
              "      <th>Age Group Place</th>\n",
              "      <th>Time to Start</th>\n",
              "      <th>Gun Time</th>\n",
              "      <th>Team]</th>\n",
              "    </tr>\n",
              "  </thead>\n",
              "  <tbody>\n",
              "    <tr>\n",
              "      <th>4</th>\n",
              "      <td>[1</td>\n",
              "      <td>814</td>\n",
              "      <td>JARED WILSON</td>\n",
              "      <td>M</td>\n",
              "      <td>TIGARD</td>\n",
              "      <td>OR</td>\n",
              "      <td>00:36:21</td>\n",
              "      <td>05:51</td>\n",
              "      <td>1 of 414</td>\n",
              "      <td>M 36-45</td>\n",
              "      <td>1 of 152</td>\n",
              "      <td>00:00:03</td>\n",
              "      <td>00:36:24</td>\n",
              "      <td>]</td>\n",
              "    </tr>\n",
              "    <tr>\n",
              "      <th>5</th>\n",
              "      <td>[2</td>\n",
              "      <td>573</td>\n",
              "      <td>NATHAN A SUSTERSIC</td>\n",
              "      <td>M</td>\n",
              "      <td>PORTLAND</td>\n",
              "      <td>OR</td>\n",
              "      <td>00:36:42</td>\n",
              "      <td>05:55</td>\n",
              "      <td>2 of 414</td>\n",
              "      <td>M 26-35</td>\n",
              "      <td>1 of 154</td>\n",
              "      <td>00:00:03</td>\n",
              "      <td>00:36:45</td>\n",
              "      <td>INTEL TEAM F]</td>\n",
              "    </tr>\n",
              "    <tr>\n",
              "      <th>6</th>\n",
              "      <td>[3</td>\n",
              "      <td>687</td>\n",
              "      <td>FRANCISCO MAYA</td>\n",
              "      <td>M</td>\n",
              "      <td>PORTLAND</td>\n",
              "      <td>OR</td>\n",
              "      <td>00:37:44</td>\n",
              "      <td>06:05</td>\n",
              "      <td>3 of 414</td>\n",
              "      <td>M 46-55</td>\n",
              "      <td>1 of 64</td>\n",
              "      <td>00:00:04</td>\n",
              "      <td>00:37:48</td>\n",
              "      <td>]</td>\n",
              "    </tr>\n",
              "    <tr>\n",
              "      <th>7</th>\n",
              "      <td>[4</td>\n",
              "      <td>623</td>\n",
              "      <td>PAUL MORROW</td>\n",
              "      <td>M</td>\n",
              "      <td>BEAVERTON</td>\n",
              "      <td>OR</td>\n",
              "      <td>00:38:34</td>\n",
              "      <td>06:13</td>\n",
              "      <td>4 of 414</td>\n",
              "      <td>M 36-45</td>\n",
              "      <td>2 of 152</td>\n",
              "      <td>00:00:03</td>\n",
              "      <td>00:38:37</td>\n",
              "      <td>]</td>\n",
              "    </tr>\n",
              "    <tr>\n",
              "      <th>8</th>\n",
              "      <td>[5</td>\n",
              "      <td>569</td>\n",
              "      <td>DEREK G OSBORNE</td>\n",
              "      <td>M</td>\n",
              "      <td>HILLSBORO</td>\n",
              "      <td>OR</td>\n",
              "      <td>00:39:21</td>\n",
              "      <td>06:20</td>\n",
              "      <td>5 of 414</td>\n",
              "      <td>M 26-35</td>\n",
              "      <td>2 of 154</td>\n",
              "      <td>00:00:03</td>\n",
              "      <td>00:39:24</td>\n",
              "      <td>INTEL TEAM F]</td>\n",
              "    </tr>\n",
              "  </tbody>\n",
              "</table>\n",
              "</div>"
            ],
            "text/plain": [
              "  [Place   Bib                 Name  Gender        City  State  Chip Time  \\\n",
              "4     [1   814         JARED WILSON       M      TIGARD     OR   00:36:21   \n",
              "5     [2   573   NATHAN A SUSTERSIC       M    PORTLAND     OR   00:36:42   \n",
              "6     [3   687       FRANCISCO MAYA       M    PORTLAND     OR   00:37:44   \n",
              "7     [4   623          PAUL MORROW       M   BEAVERTON     OR   00:38:34   \n",
              "8     [5   569      DEREK G OSBORNE       M   HILLSBORO     OR   00:39:21   \n",
              "\n",
              "   Chip Pace  Gender Place  Age Group  Age Group Place  Time to Start  \\\n",
              "4      05:51      1 of 414    M 36-45         1 of 152       00:00:03   \n",
              "5      05:55      2 of 414    M 26-35         1 of 154       00:00:03   \n",
              "6      06:05      3 of 414    M 46-55          1 of 64       00:00:04   \n",
              "7      06:13      4 of 414    M 36-45         2 of 152       00:00:03   \n",
              "8      06:20      5 of 414    M 26-35         2 of 154       00:00:03   \n",
              "\n",
              "    Gun Time           Team]  \n",
              "4   00:36:24               ]  \n",
              "5   00:36:45   INTEL TEAM F]  \n",
              "6   00:37:48               ]  \n",
              "7   00:38:37               ]  \n",
              "8   00:39:24   INTEL TEAM F]  "
            ]
          },
          "metadata": {
            "tags": []
          },
          "execution_count": 63
        }
      ]
    },
    {
      "metadata": {
        "id": "Uz73Esp8EsIK",
        "colab_type": "code",
        "colab": {
          "base_uri": "https://localhost:8080/",
          "height": 377
        },
        "outputId": "b593da10-7f02-4fc0-afa1-58a7feccd258"
      },
      "cell_type": "code",
      "source": [
        "df7.rename(columns = {'[Place':'Place'}, inplace =True)\n",
        "df7.rename(columns = {' Team]':'Team'}, inplace =True)\n",
        "df7.head()\n",
        "df7['Place'] = df7['Place'].str.strip('[')\n",
        "df7['Team']= df7['Team'].str.strip(']')\n",
        "df7.head()"
      ],
      "execution_count": 66,
      "outputs": [
        {
          "output_type": "execute_result",
          "data": {
            "text/html": [
              "<div>\n",
              "<style scoped>\n",
              "    .dataframe tbody tr th:only-of-type {\n",
              "        vertical-align: middle;\n",
              "    }\n",
              "\n",
              "    .dataframe tbody tr th {\n",
              "        vertical-align: top;\n",
              "    }\n",
              "\n",
              "    .dataframe thead th {\n",
              "        text-align: right;\n",
              "    }\n",
              "</style>\n",
              "<table border=\"1\" class=\"dataframe\">\n",
              "  <thead>\n",
              "    <tr style=\"text-align: right;\">\n",
              "      <th></th>\n",
              "      <th>Place</th>\n",
              "      <th>Bib</th>\n",
              "      <th>Name</th>\n",
              "      <th>Gender</th>\n",
              "      <th>City</th>\n",
              "      <th>State</th>\n",
              "      <th>Chip Time</th>\n",
              "      <th>Chip Pace</th>\n",
              "      <th>Gender Place</th>\n",
              "      <th>Age Group</th>\n",
              "      <th>Age Group Place</th>\n",
              "      <th>Time to Start</th>\n",
              "      <th>Gun Time</th>\n",
              "      <th>Team</th>\n",
              "    </tr>\n",
              "  </thead>\n",
              "  <tbody>\n",
              "    <tr>\n",
              "      <th>4</th>\n",
              "      <td>1</td>\n",
              "      <td>814</td>\n",
              "      <td>JARED WILSON</td>\n",
              "      <td>M</td>\n",
              "      <td>TIGARD</td>\n",
              "      <td>OR</td>\n",
              "      <td>00:36:21</td>\n",
              "      <td>05:51</td>\n",
              "      <td>1 of 414</td>\n",
              "      <td>M 36-45</td>\n",
              "      <td>1 of 152</td>\n",
              "      <td>00:00:03</td>\n",
              "      <td>00:36:24</td>\n",
              "      <td></td>\n",
              "    </tr>\n",
              "    <tr>\n",
              "      <th>5</th>\n",
              "      <td>2</td>\n",
              "      <td>573</td>\n",
              "      <td>NATHAN A SUSTERSIC</td>\n",
              "      <td>M</td>\n",
              "      <td>PORTLAND</td>\n",
              "      <td>OR</td>\n",
              "      <td>00:36:42</td>\n",
              "      <td>05:55</td>\n",
              "      <td>2 of 414</td>\n",
              "      <td>M 26-35</td>\n",
              "      <td>1 of 154</td>\n",
              "      <td>00:00:03</td>\n",
              "      <td>00:36:45</td>\n",
              "      <td>INTEL TEAM F</td>\n",
              "    </tr>\n",
              "    <tr>\n",
              "      <th>6</th>\n",
              "      <td>3</td>\n",
              "      <td>687</td>\n",
              "      <td>FRANCISCO MAYA</td>\n",
              "      <td>M</td>\n",
              "      <td>PORTLAND</td>\n",
              "      <td>OR</td>\n",
              "      <td>00:37:44</td>\n",
              "      <td>06:05</td>\n",
              "      <td>3 of 414</td>\n",
              "      <td>M 46-55</td>\n",
              "      <td>1 of 64</td>\n",
              "      <td>00:00:04</td>\n",
              "      <td>00:37:48</td>\n",
              "      <td></td>\n",
              "    </tr>\n",
              "    <tr>\n",
              "      <th>7</th>\n",
              "      <td>4</td>\n",
              "      <td>623</td>\n",
              "      <td>PAUL MORROW</td>\n",
              "      <td>M</td>\n",
              "      <td>BEAVERTON</td>\n",
              "      <td>OR</td>\n",
              "      <td>00:38:34</td>\n",
              "      <td>06:13</td>\n",
              "      <td>4 of 414</td>\n",
              "      <td>M 36-45</td>\n",
              "      <td>2 of 152</td>\n",
              "      <td>00:00:03</td>\n",
              "      <td>00:38:37</td>\n",
              "      <td></td>\n",
              "    </tr>\n",
              "    <tr>\n",
              "      <th>8</th>\n",
              "      <td>5</td>\n",
              "      <td>569</td>\n",
              "      <td>DEREK G OSBORNE</td>\n",
              "      <td>M</td>\n",
              "      <td>HILLSBORO</td>\n",
              "      <td>OR</td>\n",
              "      <td>00:39:21</td>\n",
              "      <td>06:20</td>\n",
              "      <td>5 of 414</td>\n",
              "      <td>M 26-35</td>\n",
              "      <td>2 of 154</td>\n",
              "      <td>00:00:03</td>\n",
              "      <td>00:39:24</td>\n",
              "      <td>INTEL TEAM F</td>\n",
              "    </tr>\n",
              "  </tbody>\n",
              "</table>\n",
              "</div>"
            ],
            "text/plain": [
              "  Place   Bib                 Name  Gender        City  State  Chip Time  \\\n",
              "4     1   814         JARED WILSON       M      TIGARD     OR   00:36:21   \n",
              "5     2   573   NATHAN A SUSTERSIC       M    PORTLAND     OR   00:36:42   \n",
              "6     3   687       FRANCISCO MAYA       M    PORTLAND     OR   00:37:44   \n",
              "7     4   623          PAUL MORROW       M   BEAVERTON     OR   00:38:34   \n",
              "8     5   569      DEREK G OSBORNE       M   HILLSBORO     OR   00:39:21   \n",
              "\n",
              "   Chip Pace  Gender Place  Age Group  Age Group Place  Time to Start  \\\n",
              "4      05:51      1 of 414    M 36-45         1 of 152       00:00:03   \n",
              "5      05:55      2 of 414    M 26-35         1 of 154       00:00:03   \n",
              "6      06:05      3 of 414    M 46-55          1 of 64       00:00:04   \n",
              "7      06:13      4 of 414    M 36-45         2 of 152       00:00:03   \n",
              "8      06:20      5 of 414    M 26-35         2 of 154       00:00:03   \n",
              "\n",
              "    Gun Time           Team  \n",
              "4   00:36:24                 \n",
              "5   00:36:45   INTEL TEAM F  \n",
              "6   00:37:48                 \n",
              "7   00:38:37                 \n",
              "8   00:39:24   INTEL TEAM F  "
            ]
          },
          "metadata": {
            "tags": []
          },
          "execution_count": 66
        }
      ]
    },
    {
      "metadata": {
        "id": "qLlQaJh0FrZn",
        "colab_type": "code",
        "colab": {
          "base_uri": "https://localhost:8080/",
          "height": 54
        },
        "outputId": "5fba3eff-7263-4107-b8bb-60c7ccabf6cd"
      },
      "cell_type": "code",
      "source": [
        "time_list = df7[' Chip Time'].tolist()\n",
        "\n",
        "# You can use a for loop to convert 'Chip Time' to minutes\n",
        "\n",
        "time_mins = []\n",
        "for i in time_list:\n",
        "    h, m, s = i.split(':')\n",
        "    math = (int(h) * 3600 + int(m) * 60 + int(s))/60\n",
        "    time_mins.append(math)\n",
        "print(time_mins)"
      ],
      "execution_count": 67,
      "outputs": [
        {
          "output_type": "stream",
          "text": [
            "[36.35, 36.7, 37.733333333333334, 38.56666666666667, 39.35, 39.81666666666667, 40.06666666666667, 40.083333333333336, 40.28333333333333, 40.35, 40.46666666666667, 40.6, 40.71666666666667, 41.016666666666666, 41.31666666666667, 41.71666666666667, 41.983333333333334, 42.38333333333333, 42.483333333333334, 42.583333333333336, 42.6, 42.61666666666667, 42.93333333333333, 43.43333333333333, 43.45, 43.666666666666664, 43.7, 43.71666666666667, 43.766666666666666, 43.766666666666666, 43.78333333333333, 43.78333333333333, 44.06666666666667, 44.083333333333336, 44.1, 44.11666666666667, 44.38333333333333, 44.63333333333333, 44.68333333333333, 44.7, 44.8, 45.05, 45.083333333333336, 45.166666666666664, 45.18333333333333, 45.18333333333333, 45.21666666666667, 45.233333333333334, 45.25, 45.28333333333333, 45.45, 45.46666666666667, 45.483333333333334, 45.6, 45.6, 45.666666666666664, 45.666666666666664, 45.81666666666667, 45.916666666666664, 46.03333333333333, 46.21666666666667, 46.333333333333336, 46.38333333333333, 46.43333333333333, 46.55, 46.583333333333336, 46.68333333333333, 46.7, 46.75, 46.766666666666666, 46.78333333333333, 46.81666666666667, 46.81666666666667, 46.86666666666667, 46.916666666666664, 46.93333333333333, 47.0, 47.03333333333333, 47.083333333333336, 47.083333333333336, 47.13333333333333, 47.15, 47.45, 47.483333333333334, 47.516666666666666, 47.583333333333336, 47.7, 47.75, 47.81666666666667, 47.833333333333336, 47.916666666666664, 47.93333333333333, 47.93333333333333, 47.96666666666667, 47.983333333333334, 48.15, 48.21666666666667, 48.3, 48.3, 48.333333333333336, 48.35, 48.483333333333334, 48.5, 48.61666666666667, 48.63333333333333, 48.65, 48.666666666666664, 48.7, 48.71666666666667, 48.733333333333334, 48.81666666666667, 48.93333333333333, 49.05, 49.15, 49.2, 49.3, 49.38333333333333, 49.43333333333333, 49.5, 49.53333333333333, 49.583333333333336, 49.7, 49.733333333333334, 49.733333333333334, 49.85, 49.9, 49.96666666666667, 50.11666666666667, 50.2, 50.25, 50.3, 50.31666666666667, 50.36666666666667, 50.4, 50.43333333333333, 50.483333333333334, 50.6, 50.63333333333333, 50.65, 50.666666666666664, 50.68333333333333, 50.71666666666667, 50.766666666666666, 50.85, 51.0, 51.03333333333333, 51.083333333333336, 51.1, 51.13333333333333, 51.13333333333333, 51.166666666666664, 51.2, 51.3, 51.333333333333336, 51.36666666666667, 51.4, 51.56666666666667, 51.583333333333336, 51.63333333333333, 51.68333333333333, 51.71666666666667, 51.81666666666667, 51.86666666666667, 51.9, 52.25, 52.28333333333333, 52.416666666666664, 52.43333333333333, 52.56666666666667, 52.56666666666667, 52.583333333333336, 52.583333333333336, 52.6, 52.63333333333333, 52.63333333333333, 52.68333333333333, 52.71666666666667, 52.78333333333333, 52.8, 52.833333333333336, 52.916666666666664, 52.916666666666664, 52.96666666666667, 53.03333333333333, 53.083333333333336, 53.1, 53.15, 53.2, 53.266666666666666, 53.38333333333333, 53.43333333333333, 53.516666666666666, 53.53333333333333, 53.55, 53.61666666666667, 53.733333333333334, 53.75, 53.81666666666667, 53.88333333333333, 53.93333333333333, 53.96666666666667, 53.983333333333334, 53.983333333333334, 54.083333333333336, 54.15, 54.166666666666664, 54.266666666666666, 54.28333333333333, 54.28333333333333, 54.333333333333336, 54.35, 54.483333333333334, 54.63333333333333, 54.68333333333333, 54.68333333333333, 54.71666666666667, 54.733333333333334, 54.766666666666666, 54.833333333333336, 54.88333333333333, 55.0, 55.0, 55.0, 55.0, 55.0, 55.083333333333336, 55.2, 55.266666666666666, 55.31666666666667, 55.38333333333333, 55.46666666666667, 55.483333333333334, 55.55, 55.7, 55.75, 55.833333333333336, 55.93333333333333, 56.0, 56.1, 56.21666666666667, 56.31666666666667, 56.333333333333336, 56.43333333333333, 56.5, 56.516666666666666, 56.55, 56.63333333333333, 56.8, 56.916666666666664, 56.93333333333333, 56.96666666666667, 56.96666666666667, 57.05, 57.083333333333336, 57.083333333333336, 57.083333333333336, 57.21666666666667, 57.266666666666666, 57.28333333333333, 57.516666666666666, 57.516666666666666, 57.55, 57.55, 57.6, 57.63333333333333, 57.7, 57.71666666666667, 57.75, 57.85, 58.016666666666666, 58.03333333333333, 58.21666666666667, 58.25, 58.36666666666667, 58.46666666666667, 58.46666666666667, 58.5, 58.55, 58.583333333333336, 58.65, 58.666666666666664, 58.75, 58.78333333333333, 58.85, 58.85, 58.96666666666667, 58.983333333333334, 58.983333333333334, 59.016666666666666, 59.03333333333333, 59.18333333333333, 59.31666666666667, 59.45, 59.45, 59.483333333333334, 59.483333333333334, 59.5, 59.516666666666666, 59.53333333333333, 59.666666666666664, 59.68333333333333, 59.71666666666667, 59.78333333333333, 59.86666666666667, 59.88333333333333, 59.916666666666664, 60.016666666666666, 60.05, 60.2, 60.2, 60.21666666666667, 60.21666666666667, 60.3, 60.3, 60.3, 60.31666666666667, 60.333333333333336, 60.38333333333333, 60.4, 60.65, 60.68333333333333, 60.7, 60.78333333333333, 60.81666666666667, 60.93333333333333, 60.983333333333334, 61.016666666666666, 61.166666666666664, 61.3, 61.31666666666667, 61.35, 61.36666666666667, 61.36666666666667, 61.45, 61.5, 61.5, 61.53333333333333, 61.583333333333336, 61.8, 61.8, 61.8, 61.81666666666667, 62.06666666666667, 62.083333333333336, 62.083333333333336, 62.1, 62.166666666666664, 62.3, 62.35, 62.36666666666667, 62.416666666666664, 62.483333333333334, 62.5, 62.6, 62.65, 62.68333333333333, 62.71666666666667, 62.733333333333334, 62.78333333333333, 62.8, 62.8, 62.8, 63.03333333333333, 63.05, 63.13333333333333, 63.28333333333333, 63.31666666666667, 63.56666666666667, 63.56666666666667, 63.6, 63.733333333333334, 63.733333333333334, 63.81666666666667, 63.85, 63.85, 63.88333333333333, 64.11666666666666, 64.15, 64.15, 64.16666666666667, 64.18333333333334, 64.26666666666667, 64.31666666666666, 64.31666666666666, 64.36666666666666, 64.41666666666667, 64.46666666666667, 64.5, 64.55, 64.58333333333333, 64.61666666666666, 64.66666666666667, 64.73333333333333, 64.8, 64.85, 64.91666666666667, 64.93333333333334, 64.95, 64.98333333333333, 65.2, 65.21666666666667, 65.23333333333333, 65.26666666666667, 65.26666666666667, 65.26666666666667, 65.31666666666666, 65.35, 65.45, 65.55, 65.61666666666666, 65.73333333333333, 65.8, 65.88333333333334, 66.06666666666666, 66.23333333333333, 66.31666666666666, 66.46666666666667, 66.53333333333333, 66.63333333333334, 66.68333333333334, 66.71666666666667, 66.75, 66.76666666666667, 66.83333333333333, 66.85, 66.86666666666666, 66.88333333333334, 66.91666666666667, 67.06666666666666, 67.23333333333333, 67.23333333333333, 67.26666666666667, 67.26666666666667, 67.26666666666667, 67.3, 67.3, 67.38333333333334, 67.41666666666667, 67.46666666666667, 67.58333333333333, 67.68333333333334, 67.76666666666667, 67.85, 67.86666666666666, 67.93333333333334, 68.11666666666666, 68.18333333333334, 68.2, 68.26666666666667, 68.28333333333333, 68.3, 68.36666666666666, 68.55, 68.7, 68.78333333333333, 68.86666666666666, 68.9, 68.93333333333334, 68.95, 68.96666666666667, 69.06666666666666, 69.1, 69.1, 69.23333333333333, 69.25, 69.26666666666667, 69.3, 69.3, 69.31666666666666, 69.33333333333333, 69.45, 69.48333333333333, 69.51666666666667, 69.81666666666666, 69.98333333333333, 70.01666666666667, 70.06666666666666, 70.1, 70.21666666666667, 70.61666666666666, 70.83333333333333, 70.85, 70.91666666666667, 71.0, 71.01666666666667, 71.11666666666666, 71.15, 71.16666666666667, 71.16666666666667, 71.2, 71.35, 71.51666666666667, 71.65, 71.66666666666667, 71.9, 71.93333333333334, 71.98333333333333, 72.03333333333333, 72.13333333333334, 72.15, 72.23333333333333, 72.31666666666666, 72.33333333333333, 72.53333333333333, 72.7, 72.71666666666667, 72.88333333333334, 72.91666666666667, 73.03333333333333, 73.13333333333334, 73.38333333333334, 73.41666666666667, 73.5, 73.73333333333333, 73.81666666666666, 73.81666666666666, 74.01666666666667, 74.16666666666667, 74.21666666666667, 74.3, 74.31666666666666, 74.36666666666666, 74.53333333333333, 74.66666666666667, 74.9, 75.21666666666667, 75.56666666666666, 75.63333333333334, 75.8, 75.85, 75.96666666666667, 76.0, 76.31666666666666, 76.41666666666667, 76.76666666666667, 76.8, 76.86666666666666, 77.1, 77.23333333333333, 78.13333333333334, 78.15, 78.93333333333334, 80.76666666666667, 83.13333333333334, 83.15, 83.16666666666667, 83.2, 83.5, 83.5, 83.75, 83.9, 84.15, 84.31666666666666, 85.18333333333334, 85.81666666666666, 85.81666666666666, 86.36666666666666, 87.13333333333334, 88.31666666666666, 88.55, 89.06666666666666, 89.06666666666666, 91.33333333333333, 92.16666666666667, 92.3, 92.33333333333333, 92.46666666666667, 92.5, 93.83333333333333, 94.75, 94.8, 97.16666666666667, 98.28333333333333, 98.51666666666667, 98.53333333333333, 100.78333333333333, 101.3]\n"
          ],
          "name": "stdout"
        }
      ]
    },
    {
      "metadata": {
        "id": "H3VzyiSLGENX",
        "colab_type": "code",
        "colab": {
          "base_uri": "https://localhost:8080/",
          "height": 377
        },
        "outputId": "4acdefdf-242a-4570-be00-74ddee69132b"
      },
      "cell_type": "code",
      "source": [
        "df7['Runner_mins']= time_mins\n",
        "df7.head()"
      ],
      "execution_count": 68,
      "outputs": [
        {
          "output_type": "execute_result",
          "data": {
            "text/html": [
              "<div>\n",
              "<style scoped>\n",
              "    .dataframe tbody tr th:only-of-type {\n",
              "        vertical-align: middle;\n",
              "    }\n",
              "\n",
              "    .dataframe tbody tr th {\n",
              "        vertical-align: top;\n",
              "    }\n",
              "\n",
              "    .dataframe thead th {\n",
              "        text-align: right;\n",
              "    }\n",
              "</style>\n",
              "<table border=\"1\" class=\"dataframe\">\n",
              "  <thead>\n",
              "    <tr style=\"text-align: right;\">\n",
              "      <th></th>\n",
              "      <th>Place</th>\n",
              "      <th>Bib</th>\n",
              "      <th>Name</th>\n",
              "      <th>Gender</th>\n",
              "      <th>City</th>\n",
              "      <th>State</th>\n",
              "      <th>Chip Time</th>\n",
              "      <th>Chip Pace</th>\n",
              "      <th>Gender Place</th>\n",
              "      <th>Age Group</th>\n",
              "      <th>Age Group Place</th>\n",
              "      <th>Time to Start</th>\n",
              "      <th>Gun Time</th>\n",
              "      <th>Team</th>\n",
              "      <th>Runner_mins</th>\n",
              "    </tr>\n",
              "  </thead>\n",
              "  <tbody>\n",
              "    <tr>\n",
              "      <th>4</th>\n",
              "      <td>1</td>\n",
              "      <td>814</td>\n",
              "      <td>JARED WILSON</td>\n",
              "      <td>M</td>\n",
              "      <td>TIGARD</td>\n",
              "      <td>OR</td>\n",
              "      <td>00:36:21</td>\n",
              "      <td>05:51</td>\n",
              "      <td>1 of 414</td>\n",
              "      <td>M 36-45</td>\n",
              "      <td>1 of 152</td>\n",
              "      <td>00:00:03</td>\n",
              "      <td>00:36:24</td>\n",
              "      <td></td>\n",
              "      <td>36.350000</td>\n",
              "    </tr>\n",
              "    <tr>\n",
              "      <th>5</th>\n",
              "      <td>2</td>\n",
              "      <td>573</td>\n",
              "      <td>NATHAN A SUSTERSIC</td>\n",
              "      <td>M</td>\n",
              "      <td>PORTLAND</td>\n",
              "      <td>OR</td>\n",
              "      <td>00:36:42</td>\n",
              "      <td>05:55</td>\n",
              "      <td>2 of 414</td>\n",
              "      <td>M 26-35</td>\n",
              "      <td>1 of 154</td>\n",
              "      <td>00:00:03</td>\n",
              "      <td>00:36:45</td>\n",
              "      <td>INTEL TEAM F</td>\n",
              "      <td>36.700000</td>\n",
              "    </tr>\n",
              "    <tr>\n",
              "      <th>6</th>\n",
              "      <td>3</td>\n",
              "      <td>687</td>\n",
              "      <td>FRANCISCO MAYA</td>\n",
              "      <td>M</td>\n",
              "      <td>PORTLAND</td>\n",
              "      <td>OR</td>\n",
              "      <td>00:37:44</td>\n",
              "      <td>06:05</td>\n",
              "      <td>3 of 414</td>\n",
              "      <td>M 46-55</td>\n",
              "      <td>1 of 64</td>\n",
              "      <td>00:00:04</td>\n",
              "      <td>00:37:48</td>\n",
              "      <td></td>\n",
              "      <td>37.733333</td>\n",
              "    </tr>\n",
              "    <tr>\n",
              "      <th>7</th>\n",
              "      <td>4</td>\n",
              "      <td>623</td>\n",
              "      <td>PAUL MORROW</td>\n",
              "      <td>M</td>\n",
              "      <td>BEAVERTON</td>\n",
              "      <td>OR</td>\n",
              "      <td>00:38:34</td>\n",
              "      <td>06:13</td>\n",
              "      <td>4 of 414</td>\n",
              "      <td>M 36-45</td>\n",
              "      <td>2 of 152</td>\n",
              "      <td>00:00:03</td>\n",
              "      <td>00:38:37</td>\n",
              "      <td></td>\n",
              "      <td>38.566667</td>\n",
              "    </tr>\n",
              "    <tr>\n",
              "      <th>8</th>\n",
              "      <td>5</td>\n",
              "      <td>569</td>\n",
              "      <td>DEREK G OSBORNE</td>\n",
              "      <td>M</td>\n",
              "      <td>HILLSBORO</td>\n",
              "      <td>OR</td>\n",
              "      <td>00:39:21</td>\n",
              "      <td>06:20</td>\n",
              "      <td>5 of 414</td>\n",
              "      <td>M 26-35</td>\n",
              "      <td>2 of 154</td>\n",
              "      <td>00:00:03</td>\n",
              "      <td>00:39:24</td>\n",
              "      <td>INTEL TEAM F</td>\n",
              "      <td>39.350000</td>\n",
              "    </tr>\n",
              "  </tbody>\n",
              "</table>\n",
              "</div>"
            ],
            "text/plain": [
              "  Place   Bib                 Name  Gender        City  State  Chip Time  \\\n",
              "4     1   814         JARED WILSON       M      TIGARD     OR   00:36:21   \n",
              "5     2   573   NATHAN A SUSTERSIC       M    PORTLAND     OR   00:36:42   \n",
              "6     3   687       FRANCISCO MAYA       M    PORTLAND     OR   00:37:44   \n",
              "7     4   623          PAUL MORROW       M   BEAVERTON     OR   00:38:34   \n",
              "8     5   569      DEREK G OSBORNE       M   HILLSBORO     OR   00:39:21   \n",
              "\n",
              "   Chip Pace  Gender Place  Age Group  Age Group Place  Time to Start  \\\n",
              "4      05:51      1 of 414    M 36-45         1 of 152       00:00:03   \n",
              "5      05:55      2 of 414    M 26-35         1 of 154       00:00:03   \n",
              "6      06:05      3 of 414    M 46-55          1 of 64       00:00:04   \n",
              "7      06:13      4 of 414    M 36-45         2 of 152       00:00:03   \n",
              "8      06:20      5 of 414    M 26-35         2 of 154       00:00:03   \n",
              "\n",
              "    Gun Time           Team  Runner_mins  \n",
              "4   00:36:24                   36.350000  \n",
              "5   00:36:45   INTEL TEAM F    36.700000  \n",
              "6   00:37:48                   37.733333  \n",
              "7   00:38:37                   38.566667  \n",
              "8   00:39:24   INTEL TEAM F    39.350000  "
            ]
          },
          "metadata": {
            "tags": []
          },
          "execution_count": 68
        }
      ]
    },
    {
      "metadata": {
        "id": "udAwOBhDGk8m",
        "colab_type": "code",
        "colab": {
          "base_uri": "https://localhost:8080/",
          "height": 297
        },
        "outputId": "b4f5520b-be81-472d-e3ce-d0d44c2c15ba"
      },
      "cell_type": "code",
      "source": [
        "df7.describe(include=[np.number])"
      ],
      "execution_count": 70,
      "outputs": [
        {
          "output_type": "execute_result",
          "data": {
            "text/html": [
              "<div>\n",
              "<style scoped>\n",
              "    .dataframe tbody tr th:only-of-type {\n",
              "        vertical-align: middle;\n",
              "    }\n",
              "\n",
              "    .dataframe tbody tr th {\n",
              "        vertical-align: top;\n",
              "    }\n",
              "\n",
              "    .dataframe thead th {\n",
              "        text-align: right;\n",
              "    }\n",
              "</style>\n",
              "<table border=\"1\" class=\"dataframe\">\n",
              "  <thead>\n",
              "    <tr style=\"text-align: right;\">\n",
              "      <th></th>\n",
              "      <th>Runner_mins</th>\n",
              "    </tr>\n",
              "  </thead>\n",
              "  <tbody>\n",
              "    <tr>\n",
              "      <th>count</th>\n",
              "      <td>577.000000</td>\n",
              "    </tr>\n",
              "    <tr>\n",
              "      <th>mean</th>\n",
              "      <td>60.035933</td>\n",
              "    </tr>\n",
              "    <tr>\n",
              "      <th>std</th>\n",
              "      <td>11.970623</td>\n",
              "    </tr>\n",
              "    <tr>\n",
              "      <th>min</th>\n",
              "      <td>36.350000</td>\n",
              "    </tr>\n",
              "    <tr>\n",
              "      <th>25%</th>\n",
              "      <td>51.000000</td>\n",
              "    </tr>\n",
              "    <tr>\n",
              "      <th>50%</th>\n",
              "      <td>59.016667</td>\n",
              "    </tr>\n",
              "    <tr>\n",
              "      <th>75%</th>\n",
              "      <td>67.266667</td>\n",
              "    </tr>\n",
              "    <tr>\n",
              "      <th>max</th>\n",
              "      <td>101.300000</td>\n",
              "    </tr>\n",
              "  </tbody>\n",
              "</table>\n",
              "</div>"
            ],
            "text/plain": [
              "       Runner_mins\n",
              "count   577.000000\n",
              "mean     60.035933\n",
              "std      11.970623\n",
              "min      36.350000\n",
              "25%      51.000000\n",
              "50%      59.016667\n",
              "75%      67.266667\n",
              "max     101.300000"
            ]
          },
          "metadata": {
            "tags": []
          },
          "execution_count": 70
        }
      ]
    },
    {
      "metadata": {
        "id": "hqcyxwo8GuCz",
        "colab_type": "code",
        "colab": {
          "base_uri": "https://localhost:8080/",
          "height": 374
        },
        "outputId": "cf994aa6-e1ce-43eb-a3b2-7741477008eb"
      },
      "cell_type": "code",
      "source": [
        "from pylab import rcParams\n",
        "rcParams['figure.figsize'] = 15, 5\n",
        "df7.boxplot(column='Runner_mins')\n",
        "plt.grid(True, axis='y')\n",
        "plt.ylabel('Chip Time')\n",
        "plt.xticks([1], ['Runners'])"
      ],
      "execution_count": 71,
      "outputs": [
        {
          "output_type": "execute_result",
          "data": {
            "text/plain": [
              "([<matplotlib.axis.XTick at 0x7f434956ef98>],\n",
              " <a list of 1 Text xticklabel objects>)"
            ]
          },
          "metadata": {
            "tags": []
          },
          "execution_count": 71
        },
        {
          "output_type": "display_data",
          "data": {
            "image/png": "[encoded data removed]",
            "text/plain": [
              "<matplotlib.figure.Figure at 0x7f43495ac7b8>"
            ]
          },
          "metadata": {
            "tags": []
          }
        }
      ]
    },
    {
      "metadata": {
        "id": "2CQlrSkhHMVG",
        "colab_type": "code",
        "colab": {
          "base_uri": "https://localhost:8080/",
          "height": 354
        },
        "outputId": "47619278-9823-4e46-eea4-c1b75aa2278c"
      },
      "cell_type": "code",
      "source": [
        "import seaborn as sns\n",
        "x = df7['Runner_mins']\n",
        "ax = sns.distplot(x, hist=True, kde=True, rug=False, color='m', bins=25, hist_kws={'edgecolor':'black'})\n",
        "plt.show()"
      ],
      "execution_count": 73,
      "outputs": [
        {
          "output_type": "display_data",
          "data": {
            "image/png": "[encoded data removed]",
            "text/plain": [
              "<matplotlib.figure.Figure at 0x7f43494fc4e0>"
            ]
          },
          "metadata": {
            "tags": []
          }
        }
      ]
    },
    {
      "metadata": {
        "id": "XuO0S2hMHVCm",
        "colab_type": "code",
        "colab": {
          "base_uri": "https://localhost:8080/",
          "height": 371
        },
        "outputId": "00d0047a-a9fe-4993-d06d-f243b7629e77"
      },
      "cell_type": "code",
      "source": [
        "f_fuko = df7.loc[df7[' Gender']==' F']['Runner_mins']\n",
        "m_fuko = df7.loc[df7[' Gender']==' M']['Runner_mins']\n",
        "sns.distplot(f_fuko, hist=True, kde=True, rug=False, hist_kws={'edgecolor':'black'}, label='Female')\n",
        "sns.distplot(m_fuko, hist=False, kde=True, rug=False, hist_kws={'edgecolor':'black'}, label='Male')\n",
        "plt.legend()"
      ],
      "execution_count": 74,
      "outputs": [
        {
          "output_type": "execute_result",
          "data": {
            "text/plain": [
              "<matplotlib.legend.Legend at 0x7f43493ee8d0>"
            ]
          },
          "metadata": {
            "tags": []
          },
          "execution_count": 74
        },
        {
          "output_type": "display_data",
          "data": {
            "image/png": "[encoded data removed]",
            "text/plain": [
              "<matplotlib.figure.Figure at 0x7f434955cd68>"
            ]
          },
          "metadata": {
            "tags": []
          }
        }
      ]
    },
    {
      "metadata": {
        "id": "Ss56sq7DHfCu",
        "colab_type": "code",
        "colab": {
          "base_uri": "https://localhost:8080/",
          "height": 224
        },
        "outputId": "a859f9c2-f633-4352-cec1-0ef5904523fc"
      },
      "cell_type": "code",
      "source": [
        "g_stats = df7.groupby(\" Gender\", as_index=True).describe()\n",
        "print(g_stats)"
      ],
      "execution_count": 75,
      "outputs": [
        {
          "output_type": "stream",
          "text": [
            "        Runner_mins                                                         \\\n",
            "              count       mean        std        min        25%        50%   \n",
            " Gender                                                                      \n",
            " F            163.0  66.119223  12.184440  43.766667  58.758333  64.616667   \n",
            " M            414.0  57.640821  11.011857  36.350000  49.395833  55.791667   \n",
            "\n",
            "                                \n",
            "               75%         max  \n",
            " Gender                         \n",
            " F       72.058333  101.300000  \n",
            " M       64.804167   98.516667  \n"
          ],
          "name": "stdout"
        }
      ]
    },
    {
      "metadata": {
        "id": "Ehm80U-CHoUW",
        "colab_type": "code",
        "colab": {
          "base_uri": "https://localhost:8080/",
          "height": 384
        },
        "outputId": "68a84c28-5388-4ddb-ca5c-180db5ca1304"
      },
      "cell_type": "code",
      "source": [
        "df7.boxplot(column='Runner_mins', by=' Gender')\n",
        "plt.ylabel('Chip Time')\n",
        "plt.suptitle(\"\")"
      ],
      "execution_count": 76,
      "outputs": [
        {
          "output_type": "execute_result",
          "data": {
            "text/plain": [
              "Text(0.5,0.98,'')"
            ]
          },
          "metadata": {
            "tags": []
          },
          "execution_count": 76
        },
        {
          "output_type": "display_data",
          "data": {
            "image/png": "[encoded data removed]",
            "text/plain": [
              "<matplotlib.figure.Figure at 0x7f434951c9e8>"
            ]
          },
          "metadata": {
            "tags": []
          }
        }
      ]
    },
    {
      "metadata": {
        "id": "1y35vT_kHqmW",
        "colab_type": "code",
        "colab": {}
      },
      "cell_type": "code",
      "source": [
        ""
      ],
      "execution_count": 0,
      "outputs": []
    }
  ]
}